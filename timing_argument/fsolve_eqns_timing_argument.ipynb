{
 "cells": [
  {
   "cell_type": "code",
   "execution_count": 1,
   "id": "fe6cb5ba",
   "metadata": {},
   "outputs": [],
   "source": [
    "from scipy.optimize import fsolve\n",
    "import numpy as np\n",
    "from sympy import Symbol, nsolve, symbols\n",
    "import sympy as sp"
   ]
  },
  {
   "cell_type": "markdown",
   "id": "61decd5f",
   "metadata": {},
   "source": [
    "Use fsolve in scipy to solve the system of equations. Looks like the solution is quite sensitive to the initial guess values we input."
   ]
  },
  {
   "cell_type": "code",
   "execution_count": 2,
   "id": "8815e1df",
   "metadata": {},
   "outputs": [
    {
     "name": "stdout",
     "output_type": "stream",
     "text": [
      "Sol 1: 488.446248841098 0.9889605412471988 4.259071377741883 424.9376246998394\n",
      "Sol 2: 500.0 0.95 4.3 400.0\n"
     ]
    },
    {
     "name": "stderr",
     "output_type": "stream",
     "text": [
      "/var/folders/jd/x36mtm2x27q5bq1dnshn421m0000gn/T/ipykernel_74307/3668324158.py:11: RuntimeWarning: invalid value encountered in double_scalars\n",
      "  eqn_4 = ((G * M) / a)**.5 * (1. - e**2)**.5 / (1. - e * np.cos(eta) ) - vtan\n",
      "/Users/shihongliao/opt/anaconda3/lib/python3.9/site-packages/scipy/optimize/minpack.py:175: RuntimeWarning: The iteration is not making good progress, as measured by the \n",
      "  improvement from the last ten iterations.\n",
      "  warnings.warn(msg, RuntimeWarning)\n"
     ]
    }
   ],
   "source": [
    "def equations(vars):\n",
    "    a, e, eta, M = vars\n",
    "    G = 43007.1\n",
    "    r = 700.\n",
    "    t = 13.\n",
    "    vrad = -120.\n",
    "    vtan = 20.\n",
    "    eqn_1 = a * (1. - e * np.cos(eta) ) - r\n",
    "    eqn_2 = (a**3 / (G * M) )**.5 * (eta - e * np.sin(eta) ) - t\n",
    "    eqn_3 = ((G * M) / a)**.5 * e * np.sin(eta)  / (1. - e * np.cos (eta) ) - vrad\n",
    "    eqn_4 = ((G * M) / a)**.5 * (1. - e**2)**.5 / (1. - e * np.cos(eta) ) - vtan\n",
    "    return [eqn_1, eqn_2, eqn_3, eqn_4]\n",
    "\n",
    "a, e, eta, M = fsolve(equations, (400., 0.95, 4.3, 400.))\n",
    "print('Sol 1:', a, e, eta, M)\n",
    "\n",
    "a, e, eta, M = fsolve(equations, (500., 0.95, 4.3, 400.))\n",
    "print('Sol 2:', a, e, eta, M)"
   ]
  },
  {
   "cell_type": "markdown",
   "id": "accc6127",
   "metadata": {},
   "source": [
    "Try with nsolve in sympy, at least from a quick test, it looks like that the results are not so sensitive to the initial guess values now."
   ]
  },
  {
   "cell_type": "code",
   "execution_count": 3,
   "id": "3064e15f",
   "metadata": {},
   "outputs": [
    {
     "name": "stdout",
     "output_type": "stream",
     "text": [
      "Sol 1: Matrix([[488.446248956368 + 2.86468939863989e-33*I], [0.988960541268615 - 4.129060315261e-36*I], [4.25907137770252 + 7.39895580982073e-36*I], [424.937624969478 - 1.83672578774179e-33*I]])\n",
      "Sol 2: Matrix([[488.446248956368], [0.988960541268615], [4.25907137770252], [424.937624969478]])\n",
      "Sol 3: Matrix([[488.446248956368], [0.988960541268615], [4.25907137770252], [424.937624969478]])\n"
     ]
    }
   ],
   "source": [
    "G = 43007.1\n",
    "r = 700.\n",
    "t = 13.\n",
    "vrad = -120.\n",
    "vtan = 20.\n",
    "a = Symbol('a')\n",
    "e = Symbol('e')\n",
    "eta = Symbol('eta')\n",
    "M = Symbol('M')\n",
    "eqn_1 = a * (1. - e * sp.cos(eta) ) - r\n",
    "eqn_2 = (a**3 / (G * M) )**.5 * (eta - e * sp.sin(eta) ) - t\n",
    "eqn_3 = ((G * M) / a)**.5 * e * sp.sin(eta)  / (1. - e * sp.cos(eta) ) - vrad\n",
    "eqn_4 = ((G * M) / a)**.5 * (1. - e**2)**.5 / (1. - e * sp.cos(eta) ) - vtan\n",
    "solution_1 = nsolve((eqn_1, eqn_2, eqn_3, eqn_4), (a, e, eta, M), (1000., 0.9, 4.3, 400.))\n",
    "print('Sol 1:', solution_1)\n",
    "solution_2 = nsolve((eqn_1, eqn_2, eqn_3, eqn_4), (a, e, eta, M), (400., 0.95, 4.3, 400.))\n",
    "print('Sol 2:', solution_2)\n",
    "solution_3 = nsolve((eqn_1, eqn_2, eqn_3, eqn_4), (a, e, eta, M), (500., 0.95, 4.3, 400.))\n",
    "print('Sol 3:', solution_3)"
   ]
  },
  {
   "cell_type": "markdown",
   "id": "c093d981",
   "metadata": {},
   "source": [
    "In solution_1 above, it contains imaginary parts. Of course, the imaginary parts are almost zero here. For such complex expression, to get the real/imaginary part:"
   ]
  },
  {
   "cell_type": "code",
   "execution_count": 4,
   "id": "ac426f85",
   "metadata": {},
   "outputs": [
    {
     "name": "stdout",
     "output_type": "stream",
     "text": [
      "488.446248956368\n",
      "2.86468939863989e-33\n"
     ]
    }
   ],
   "source": [
    "print(sp.re(solution_1[0]))\n",
    "print(sp.im(solution_1[0]))"
   ]
  }
 ],
 "metadata": {
  "kernelspec": {
   "display_name": "Python 3 (ipykernel)",
   "language": "python",
   "name": "python3"
  },
  "language_info": {
   "codemirror_mode": {
    "name": "ipython",
    "version": 3
   },
   "file_extension": ".py",
   "mimetype": "text/x-python",
   "name": "python",
   "nbconvert_exporter": "python",
   "pygments_lexer": "ipython3",
   "version": "3.9.7"
  }
 },
 "nbformat": 4,
 "nbformat_minor": 5
}
