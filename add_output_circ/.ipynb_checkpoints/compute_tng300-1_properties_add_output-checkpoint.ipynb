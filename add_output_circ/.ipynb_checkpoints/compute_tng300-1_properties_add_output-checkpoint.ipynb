{
 "cells": [
  {
   "cell_type": "markdown",
   "id": "55b1b89b",
   "metadata": {},
   "source": [
    "# Compute TNG-300-1 halo and galaxy properties"
   ]
  },
  {
   "cell_type": "code",
   "execution_count": 1,
   "id": "41621921",
   "metadata": {},
   "outputs": [],
   "source": [
    "import illustris_python as il\n",
    "import pandas as pd\n",
    "import numpy as np\n",
    "import h5py\n",
    "from scipy.optimize import fsolve\n",
    "from scipy import spatial\n",
    "import matplotlib.pyplot as plt\n",
    "from astropy.visualization import hist"
   ]
  },
  {
   "cell_type": "markdown",
   "id": "6b0671f9",
   "metadata": {},
   "source": [
    "### 1. Read group and subhalo catalogs"
   ]
  },
  {
   "cell_type": "code",
   "execution_count": 2,
   "id": "9172ca6e",
   "metadata": {},
   "outputs": [],
   "source": [
    "basePath = '/home/shihong/Documents/sibelius_dark_ml/deSanti_2021/TNG300-1/output/'\n",
    "snapIndex = 99"
   ]
  },
  {
   "cell_type": "markdown",
   "id": "f506e758",
   "metadata": {},
   "source": [
    "Load header information. The box size will be used to search neighboring subhalos"
   ]
  },
  {
   "cell_type": "code",
   "execution_count": 3,
   "id": "a20cdfc0",
   "metadata": {},
   "outputs": [],
   "source": [
    "header = il.groupcat.loadHeader(basePath, snapIndex)"
   ]
  },
  {
   "cell_type": "markdown",
   "id": "840cbd78",
   "metadata": {},
   "source": [
    "Load FOF group catalog."
   ]
  },
  {
   "cell_type": "code",
   "execution_count": 4,
   "id": "db0fa349",
   "metadata": {},
   "outputs": [],
   "source": [
    "fields = ['GroupFirstSub', 'Group_M_Crit200', 'Group_R_Crit200', 'GroupNsubs']\n",
    "halos = il.groupcat.loadHalos(basePath, snapIndex, fields=fields)"
   ]
  },
  {
   "cell_type": "markdown",
   "id": "09900e78",
   "metadata": {},
   "source": [
    "Load subhalo catalog."
   ]
  },
  {
   "cell_type": "code",
   "execution_count": 5,
   "id": "00b8a8d9",
   "metadata": {},
   "outputs": [],
   "source": [
    "fields = ['SubhaloFlag', 'SubhaloGrNr', 'SubhaloPos', 'SubhaloLen', 'SubhaloLenType', 'SubhaloMassType', 'SubhaloSFR', 'SubhaloSpin', 'SubhaloHalfmassRadType', 'SubhaloStellarPhotometrics', 'SubhaloVmax', 'SubhaloVmaxRad']\n",
    "subhalos = il.groupcat.loadSubhalos(basePath, snapIndex, fields=fields)"
   ]
  },
  {
   "cell_type": "markdown",
   "id": "b8d1299c",
   "metadata": {},
   "source": [
    "### 2.1 Read halo structure catalog provided in TNG database"
   ]
  },
  {
   "cell_type": "markdown",
   "id": "70b410f1",
   "metadata": {},
   "source": [
    "We will use the halo formation time from this catalog. It turns out that the fitted concentration in this catalog has some outliers as large as 1e16 which should come from the failed fitting, but the authors of this catalog didn't fix this. Note that this catalog is for halos in the FOF group catalog only."
   ]
  },
  {
   "cell_type": "code",
   "execution_count": 6,
   "id": "dc2dbee1",
   "metadata": {},
   "outputs": [],
   "source": [
    "path = '/home/shihong/Documents/sibelius_dark_ml/deSanti_2021/TNG300-1/postprocessing/halo_structure/halo_structure_099.hdf5'\n",
    "haloStructure = h5py.File(path, 'r')\n",
    "c200c = np.array(haloStructure['c200c'])\n",
    "a_form = np.array(haloStructure['a_form'])"
   ]
  },
  {
   "cell_type": "markdown",
   "id": "a0ae9c61",
   "metadata": {},
   "source": [
    "### 2.2 Read stellar circularities catalog provided in TNG database"
   ]
  },
  {
   "cell_type": "code",
   "execution_count": null,
   "id": "a83690e3",
   "metadata": {},
   "outputs": [],
   "source": [
    "path = ''"
   ]
  },
  {
   "cell_type": "markdown",
   "id": "cbf6b11d",
   "metadata": {},
   "source": [
    "### 3. Select subhalo samples"
   ]
  },
  {
   "cell_type": "markdown",
   "id": "12e34b70",
   "metadata": {},
   "source": [
    "According to Section 2.2 of [de Santi et al. (2021)](https://arxiv.org/abs/2201.06054), the selection criteria are: **(1) central galaxies**, **(2) virial mass M200 >= 10^10.5 Msol/h**,  and **(3) total stellar mass M* >= 10^8.75 Msol/h**. They claim that \"*These cuts ensure that haloes have more than 500 particles and that galaxies contain at least 50 gas cells. The final galaxy sample contains 174, 527 objects.*\" I tried with these criteria, but I got 174575 objects. Probaly they used additional criteria but did not specify in the paper. Also, the saying of \"*at least 50 gas cells*\" is wrong, it should be *at least 50 star particles*.\n",
    "\n",
    "Apart from the above criteria mentioned by the authors, I further add the following criteria to select subhalos:\n",
    "\n",
    "**(4) 'SubhaloFlag' in the subhalo catalog is non-zero**, **(5) the selected subhalo should have the formation time computed from the halo structure catalog**."
   ]
  },
  {
   "cell_type": "code",
   "execution_count": 7,
   "id": "1d9dfe32",
   "metadata": {},
   "outputs": [
    {
     "name": "stdout",
     "output_type": "stream",
     "text": [
      "Total number of subhalos in TNG300-1: 14485709\n",
      "Number of selected subhalos for this study: 173471\n",
      "Minimum total particle number of selected subhalos: 1059\n",
      "Minimum gas cell number of selected subhalos: 0\n",
      "Minimum star particle number of selected subhalos: 86\n"
     ]
    }
   ],
   "source": [
    "totSubhaloNum = len(subhalos['SubhaloFlag'])\n",
    "selectSubhaloIndex = np.full(totSubhaloNum, False)\n",
    "\n",
    "fofCatalogCriteria = (halos['Group_M_Crit200']*1e10 >= 10**10.5) & (a_form > 0.)  # Criteria (2) and (5)\n",
    "selectSubhaloIndex[halos['GroupFirstSub'][fofCatalogCriteria]] = True  # Criterion (1)\n",
    "subhaloStellarMass = (subhalos['SubhaloMassType'].T)[4] * 1e10\n",
    "selectSubhaloIndex[subhaloStellarMass < 10**8.75] = False  # Criterion (3)\n",
    "selectSubhaloIndex[subhalos['SubhaloFlag'] == 0] = False  # Criterion (4)\n",
    "\n",
    "selectSubhaloNum = len(subhalos['SubhaloFlag'][selectSubhaloIndex])\n",
    "gasLen = (subhalos['SubhaloLenType'].T)[0]\n",
    "starLen = (subhalos['SubhaloLenType'].T)[4]\n",
    "\n",
    "print('Total number of subhalos in TNG300-1: %d' % (totSubhaloNum))\n",
    "print('Number of selected subhalos for this study: %d' % (selectSubhaloNum))\n",
    "print('Minimum total particle number of selected subhalos: %d' % (np.min(subhalos['SubhaloLen'][selectSubhaloIndex])))\n",
    "print('Minimum gas cell number of selected subhalos: %d' % (np.min(gasLen[selectSubhaloIndex])))\n",
    "print('Minimum star particle number of selected subhalos: %d' % (np.min(starLen[selectSubhaloIndex])))"
   ]
  },
  {
   "cell_type": "markdown",
   "id": "0811f74e",
   "metadata": {},
   "source": [
    "### 4. Retrieve/Compute halo/galaxy properties for selected subhalos"
   ]
  },
  {
   "cell_type": "markdown",
   "id": "f9b07569",
   "metadata": {},
   "source": [
    "#### Virial mass (Msol/h)"
   ]
  },
  {
   "cell_type": "code",
   "execution_count": 8,
   "id": "2ebec54c",
   "metadata": {},
   "outputs": [
    {
     "data": {
      "text/plain": [
       "Text(0.5, 0, 'log$_{10}$ $M_\\\\mathrm{vir}[h^{-1}M_\\\\odot]$')"
      ]
     },
     "execution_count": 8,
     "metadata": {},
     "output_type": "execute_result"
    },
    {
     "data": {
      "image/png": "[encoded data removed]",
      "text/plain": [
       "<Figure size 600x400 with 1 Axes>"
      ]
     },
     "metadata": {
      "needs_background": "light"
     },
     "output_type": "display_data"
    }
   ],
   "source": [
    "selectSubhaloGrNr = subhalos['SubhaloGrNr'][selectSubhaloIndex]\n",
    "Mvir_in_Msol = halos['Group_M_Crit200'][selectSubhaloGrNr] * 1e10\n",
    "\n",
    "plt.figure(dpi = 100)\n",
    "hist(np.log10(Mvir_in_Msol), bins = 'scott')\n",
    "plt.yscale('log')\n",
    "plt.ylabel('$\\#$ of central galaxies')\n",
    "plt.xlabel('log$_{10}$ $M_\\mathrm{vir}[h^{-1}M_\\odot]$')"
   ]
  },
  {
   "cell_type": "markdown",
   "id": "3fed2119",
   "metadata": {},
   "source": [
    "#### Formation time (redshift)"
   ]
  },
  {
   "cell_type": "code",
   "execution_count": 9,
   "id": "8b6ee7d2",
   "metadata": {},
   "outputs": [
    {
     "data": {
      "text/plain": [
       "Text(0.5, 0, '$z_\\\\mathrm{form}$')"
      ]
     },
     "execution_count": 9,
     "metadata": {},
     "output_type": "execute_result"
    },
    {
     "data": {
      "image/png": "[encoded data removed]",
      "text/plain": [
       "<Figure size 600x400 with 1 Axes>"
      ]
     },
     "metadata": {
      "needs_background": "light"
     },
     "output_type": "display_data"
    }
   ],
   "source": [
    "z_form = 1. / a_form[selectSubhaloGrNr] - 1.\n",
    "\n",
    "plt.figure(dpi = 100)\n",
    "hist(z_form, bins = 'scott')\n",
    "plt.yscale('log')\n",
    "plt.ylabel('$\\#$ of central galaxies')\n",
    "plt.xlabel('$z_\\mathrm{form}$')"
   ]
  },
  {
   "cell_type": "markdown",
   "id": "60411750",
   "metadata": {},
   "source": [
    "#### Spin parameter"
   ]
  },
  {
   "cell_type": "markdown",
   "id": "1cf829cb",
   "metadata": {},
   "source": [
    "As a quick estimation, use the specific angular momentum information in the subhalo catalog, and the virial mass and virial radius from the group catalog to compute according to the Bullock et al. (2001) definition."
   ]
  },
  {
   "cell_type": "code",
   "execution_count": 10,
   "id": "40850f6e",
   "metadata": {},
   "outputs": [
    {
     "data": {
      "text/plain": [
       "Text(0.5, 0, 'log$_{10} \\\\lambda$')"
      ]
     },
     "execution_count": 10,
     "metadata": {},
     "output_type": "execute_result"
    },
    {
     "data": {
      "image/png": "[encoded data removed]",
      "text/plain": [
       "<Figure size 600x400 with 1 Axes>"
      ]
     },
     "metadata": {
      "needs_background": "light"
     },
     "output_type": "display_data"
    }
   ],
   "source": [
    "Mvir = halos['Group_M_Crit200'][selectSubhaloGrNr]\n",
    "Rvir = halos['Group_R_Crit200'][selectSubhaloGrNr]\n",
    "G_const = 43007.1\n",
    "Vvir = (G_const * Mvir / Rvir)**0.5\n",
    "subhaloSpin = subhalos['SubhaloSpin'].T\n",
    "j = (subhaloSpin[0][selectSubhaloIndex]**2. + subhaloSpin[1][selectSubhaloIndex]**2. + subhaloSpin[2][selectSubhaloIndex]**2.)**0.5\n",
    "spinParam = j / (2**0.5 * Vvir * Rvir)\n",
    "\n",
    "plt.figure(dpi = 100)\n",
    "hist(np.log10(spinParam), bins = 'scott')\n",
    "plt.yscale('log')\n",
    "plt.ylabel('$\\#$ of central galaxies')\n",
    "plt.xlabel('log$_{10} \\lambda$')"
   ]
  },
  {
   "cell_type": "markdown",
   "id": "24b0144b",
   "metadata": {},
   "source": [
    "#### Concentration"
   ]
  },
  {
   "cell_type": "markdown",
   "id": "c9a1f024",
   "metadata": {},
   "source": [
    "Assume an NFW density profile, numerically sovle c200 from the ratio of Vmax/V200."
   ]
  },
  {
   "cell_type": "code",
   "execution_count": 11,
   "id": "390155a8",
   "metadata": {},
   "outputs": [
    {
     "data": {
      "text/plain": [
       "Text(0.5, 0, 'Concentration')"
      ]
     },
     "execution_count": 11,
     "metadata": {},
     "output_type": "execute_result"
    },
    {
     "data": {
      "image/png": "[encoded data removed]",
      "text/plain": [
       "<Figure size 600x400 with 1 Axes>"
      ]
     },
     "metadata": {
      "needs_background": "light"
     },
     "output_type": "display_data"
    }
   ],
   "source": [
    "def func(x):\n",
    "  return np.log(1. + x) - x / (1. + x)\n",
    "\n",
    "def solve_func(x, Vmax, V200):\n",
    "  return Vmax/V200 - (0.216 * x / func(x))**0.5\n",
    "\n",
    "Vmax = subhalos['SubhaloVmax'][selectSubhaloIndex]\n",
    "Rmax = subhalos['SubhaloVmaxRad'][selectSubhaloIndex]\n",
    "NpartDM = (subhalos['SubhaloLenType'][selectSubhaloIndex].T)[1]\n",
    "NpartGas = (subhalos['SubhaloLenType'][selectSubhaloIndex].T)[0]\n",
    "NpartStar = (subhalos['SubhaloLenType'][selectSubhaloIndex].T)[4]\n",
    "NpartTot = subhalos['SubhaloLen'][selectSubhaloIndex]\n",
    "cvir = np.arange(selectSubhaloNum, dtype='float64')\n",
    "for i in range(selectSubhaloNum):\n",
    "  if Vmax[i] <= Vvir[i]:\n",
    "    cvir[i] = -1\n",
    "  else:\n",
    "    cvir[i] = fsolve(solve_func, x0=10., args=(Vmax[i], Vvir[i]))\n",
    "\n",
    "plt.figure(dpi = 100)\n",
    "hist(cvir, bins = 'scott')\n",
    "plt.yscale('log')\n",
    "plt.ylabel('$\\#$ of central galaxies')\n",
    "plt.xlabel('Concentration')"
   ]
  },
  {
   "cell_type": "markdown",
   "id": "67a76eab",
   "metadata": {},
   "source": [
    "#### Overdensity on a 3 Mpc/h scale"
   ]
  },
  {
   "cell_type": "markdown",
   "id": "88268e52",
   "metadata": {},
   "source": [
    "Use KD-Tree for neighboring search."
   ]
  },
  {
   "cell_type": "code",
   "execution_count": 12,
   "id": "912d758c",
   "metadata": {},
   "outputs": [
    {
     "data": {
      "text/plain": [
       "Text(0.5, 0, 'log$_{10}$ $\\\\Delta_{3Mpc}$')"
      ]
     },
     "execution_count": 12,
     "metadata": {},
     "output_type": "execute_result"
    },
    {
     "data": {
      "image/png": "[encoded data removed]",
      "text/plain": [
       "<Figure size 600x400 with 1 Axes>"
      ]
     },
     "metadata": {
      "needs_background": "light"
     },
     "output_type": "display_data"
    }
   ],
   "source": [
    "Delta3_h = np.zeros(selectSubhaloNum, dtype='float64')\n",
    "environmentRadius = 3000.0\n",
    "\n",
    "boxSize = header['BoxSize']\n",
    "allSubhaloPos = subhalos['SubhaloPos']\n",
    "allSubhaloPos = allSubhaloPos.T\n",
    "for i in range(3):\n",
    "  allSubhaloPos[i][allSubhaloPos[i] >= boxSize] = allSubhaloPos[i][allSubhaloPos[i] >= boxSize] - boxSize\n",
    "  allSubhaloPos[i][allSubhaloPos[i] < 0.0] = allSubhaloPos[i][allSubhaloPos[i] < 0.0] + boxSize\n",
    "\n",
    "allSubhaloPos = allSubhaloPos.T\n",
    "tree = spatial.cKDTree(allSubhaloPos, boxsize=boxSize)\n",
    "\n",
    "selectSubhaloPos = subhalos['SubhaloPos'][selectSubhaloIndex]\n",
    "\n",
    "for i in range(selectSubhaloNum):\n",
    "  allNeighborList = tree.query_ball_point(selectSubhaloPos[i], environmentRadius)\n",
    "  sameHaloNeighborList = tree.query_ball_point(selectSubhaloPos[i], halos['Group_R_Crit200'][selectSubhaloGrNr[i]])\n",
    "  Delta3_h[i] = len(allNeighborList) - len(sameHaloNeighborList)\n",
    "\n",
    "meanSubhaloNumDen = totSubhaloNum / boxSize**3.0\n",
    "sphereVol = 4. * np.pi * environmentRadius**3. / 3.\n",
    "Delta3_h = Delta3_h / sphereVol / meanSubhaloNumDen\n",
    "\n",
    "plt.figure(dpi = 100)\n",
    "hist(np.log10(Delta3_h), bins = 'scott')\n",
    "plt.yscale('log')\n",
    "plt.ylabel('$\\#$ of central galaxies')\n",
    "plt.xlabel('log$_{10}$ $\\Delta_{3Mpc}$')"
   ]
  },
  {
   "cell_type": "markdown",
   "id": "a5176b88",
   "metadata": {},
   "source": [
    "#### SFR (Msol/yr)"
   ]
  },
  {
   "cell_type": "code",
   "execution_count": 13,
   "id": "4b59105f",
   "metadata": {},
   "outputs": [],
   "source": [
    "SFR_in_Msol_per_yr = subhalos['SubhaloSFR'][selectSubhaloIndex]"
   ]
  },
  {
   "cell_type": "markdown",
   "id": "6aca5b8a",
   "metadata": {},
   "source": [
    "#### Stellar mass (Msol)"
   ]
  },
  {
   "cell_type": "code",
   "execution_count": 14,
   "id": "f7a8ad80",
   "metadata": {},
   "outputs": [
    {
     "data": {
      "text/plain": [
       "Text(0.5, 0, 'log$_{10}$ $M_\\\\star[h^{-1}M_\\\\odot]$')"
      ]
     },
     "execution_count": 14,
     "metadata": {},
     "output_type": "execute_result"
    },
    {
     "data": {
      "image/png": "[encoded data removed]",
      "text/plain": [
       "<Figure size 600x400 with 1 Axes>"
      ]
     },
     "metadata": {
      "needs_background": "light"
     },
     "output_type": "display_data"
    }
   ],
   "source": [
    "Mstar_in_Msol = (subhalos['SubhaloMassType'].T)[4][selectSubhaloIndex] * 1e10\n",
    "\n",
    "plt.figure(dpi = 100)\n",
    "hist(np.log10(Mstar_in_Msol), bins = 'scott')\n",
    "plt.yscale('log')\n",
    "plt.ylabel('$\\#$ of central galaxies')\n",
    "plt.xlabel('log$_{10}$ $M_\\star[h^{-1}M_\\odot]$')"
   ]
  },
  {
   "cell_type": "markdown",
   "id": "74879386",
   "metadata": {},
   "source": [
    "#### sSFR (yr^-1)"
   ]
  },
  {
   "cell_type": "markdown",
   "id": "d6dbddcd",
   "metadata": {},
   "source": [
    "Note that as mentioned in de Santi et al. (2021), ~14% of the galaxies in TNG300-1 have SFR = 0, which originates from the numerical resolution. Following the authors, for these null-SFR galaxies, generate an non-zero log sSFR for them from a Gaussian distribution with the mean of -13.5 and sigma of 0.5 (see their Section 2.2 for details)."
   ]
  },
  {
   "cell_type": "code",
   "execution_count": 15,
   "id": "aa4965ef",
   "metadata": {},
   "outputs": [
    {
     "name": "stdout",
     "output_type": "stream",
     "text": [
      "Zero sSFR number: 24207\n",
      "Zero sSFR Fraction: 0.139545\n"
     ]
    },
    {
     "data": {
      "text/plain": [
       "Text(0.5, 0, 'log$_{10}$ sSFR [yr$^{-1}$]')"
      ]
     },
     "execution_count": 15,
     "metadata": {},
     "output_type": "execute_result"
    },
    {
     "data": {
      "image/png": "[encoded data removed]",
      "text/plain": [
       "<Figure size 600x400 with 1 Axes>"
      ]
     },
     "metadata": {
      "needs_background": "light"
     },
     "output_type": "display_data"
    }
   ],
   "source": [
    "sSFR_in_per_yr = SFR_in_Msol_per_yr / Mstar_in_Msol\n",
    "zerosSFRNum = len(sSFR_in_per_yr[sSFR_in_per_yr == 0.0])\n",
    "print('Zero sSFR number: %d' % (zerosSFRNum))\n",
    "print('Zero sSFR Fraction: %g' % (float(zerosSFRNum) / selectSubhaloNum))\n",
    "\n",
    "np.random.seed(42)\n",
    "gaussianLogsSFR = np.random.normal(-13.5, 0.5, zerosSFRNum)\n",
    "sSFR_in_per_yr[sSFR_in_per_yr == 0.0] = 10.**gaussianLogsSFR\n",
    "\n",
    "plt.figure(dpi = 100)\n",
    "hist(np.log10(sSFR_in_per_yr), bins = 'scott')\n",
    "plt.yscale('log')\n",
    "plt.ylabel('$\\#$ of central galaxies')\n",
    "plt.xlabel('log$_{10}$ sSFR [yr$^{-1}$]')"
   ]
  },
  {
   "cell_type": "markdown",
   "id": "eb87736d",
   "metadata": {},
   "source": [
    "#### g-i color"
   ]
  },
  {
   "cell_type": "code",
   "execution_count": 16,
   "id": "c83404fd",
   "metadata": {},
   "outputs": [
    {
     "data": {
      "text/plain": [
       "Text(0.5, 0, '$g-i$')"
      ]
     },
     "execution_count": 16,
     "metadata": {},
     "output_type": "execute_result"
    },
    {
     "data": {
      "image/png": "[encoded data removed]",
      "text/plain": [
       "<Figure size 600x400 with 1 Axes>"
      ]
     },
     "metadata": {
      "needs_background": "light"
     },
     "output_type": "display_data"
    }
   ],
   "source": [
    "g_i_color = (subhalos['SubhaloStellarPhotometrics'].T)[4][selectSubhaloIndex] - (subhalos['SubhaloStellarPhotometrics'].T)[6][selectSubhaloIndex]\n",
    "\n",
    "plt.figure(dpi = 100)\n",
    "hist(g_i_color, bins = 'scott')\n",
    "plt.yscale('log')\n",
    "plt.ylabel('$\\#$ of central galaxies')\n",
    "plt.xlabel('$g-i$')"
   ]
  },
  {
   "cell_type": "markdown",
   "id": "c243774b",
   "metadata": {},
   "source": [
    "#### Stellar half-mass radius (kpc/h)"
   ]
  },
  {
   "cell_type": "code",
   "execution_count": 17,
   "id": "6cba133c",
   "metadata": {},
   "outputs": [
    {
     "data": {
      "text/plain": [
       "Text(0.5, 0, 'log$_{10} R_{1/2} [h^{-1} \\\\mathrm{kpc}]$')"
      ]
     },
     "execution_count": 17,
     "metadata": {},
     "output_type": "execute_result"
    },
    {
     "data": {
      "image/png": "[encoded data removed]",
      "text/plain": [
       "<Figure size 600x400 with 1 Axes>"
      ]
     },
     "metadata": {
      "needs_background": "light"
     },
     "output_type": "display_data"
    }
   ],
   "source": [
    "stellarHalfmassRad_in_kpc = (subhalos['SubhaloHalfmassRadType'].T)[4][selectSubhaloIndex]\n",
    "\n",
    "plt.figure(dpi = 100)\n",
    "hist(np.log10(stellarHalfmassRad_in_kpc), bins = 'scott')\n",
    "plt.yscale('log')\n",
    "plt.ylabel('$\\#$ of central galaxies')\n",
    "plt.xlabel('log$_{10} R_{1/2} [h^{-1} \\mathrm{kpc}]$')"
   ]
  },
  {
   "cell_type": "markdown",
   "id": "99f6005f",
   "metadata": {},
   "source": [
    "### 5. Construct data frame with pandas and output"
   ]
  },
  {
   "cell_type": "markdown",
   "id": "6db9f4a9",
   "metadata": {},
   "source": [
    "By reading the jupyter notebook code in github for de Santi et al. (2021), the virial mass, concentration, stellar mass, sSFR, and stellar half-mass radius in the output .csv file should be logarithmic."
   ]
  },
  {
   "cell_type": "code",
   "execution_count": 18,
   "id": "536eef14",
   "metadata": {},
   "outputs": [],
   "source": [
    "d = {}\n",
    "outputMark = (cvir > 0.) & (cvir < 30.)\n",
    "d['M_h'] = np.log10(Mvir_in_Msol[outputMark])\n",
    "d['C_h'] = np.log10(cvir[outputMark])\n",
    "d['S_h'] = spinParam[outputMark]\n",
    "d['z_h'] = z_form[outputMark]\n",
    "d['Delta3_h'] = Delta3_h[outputMark]\n",
    "d['stellar_mass'] = np.log10(Mstar_in_Msol[outputMark])\n",
    "d['sSFR'] = np.log10(sSFR_in_per_yr[outputMark])\n",
    "d['radius'] = np.log10(stellarHalfmassRad_in_kpc[outputMark])\n",
    "d['color'] = g_i_color[outputMark]\n",
    "d['Vmax[km/s]'] = Vmax[outputMark]\n",
    "d['rmax[kpc/h]'] = Rmax[outputMark]\n",
    "d['V200[km/s]'] = Vvir[outputMark]\n",
    "d['R200[kpc/h]'] = Rvir[outputMark]\n",
    "d['Npart_dm'] = NpartDM[outputMark]\n",
    "d['Npart_gas'] = NpartGas[outputMark]\n",
    "d['Npart_star'] = NpartStar[outputMark]\n",
    "d['Npart_tot'] = NpartTot[outputMark]\n",
    "\n",
    "df = pd.DataFrame(data=d)\n",
    "df.to_csv('./IllustrisTNG_add_Vmax_output.csv', index=False)"
   ]
  },
  {
   "cell_type": "code",
   "execution_count": null,
   "id": "da2ee2d1",
   "metadata": {},
   "outputs": [],
   "source": []
  }
 ],
 "metadata": {
  "kernelspec": {
   "display_name": "Python 3 (ipykernel)",
   "language": "python",
   "name": "python3"
  },
  "language_info": {
   "codemirror_mode": {
    "name": "ipython",
    "version": 3
   },
   "file_extension": ".py",
   "mimetype": "text/x-python",
   "name": "python",
   "nbconvert_exporter": "python",
   "pygments_lexer": "ipython3",
   "version": "3.9.7"
  }
 },
 "nbformat": 4,
 "nbformat_minor": 5
}
