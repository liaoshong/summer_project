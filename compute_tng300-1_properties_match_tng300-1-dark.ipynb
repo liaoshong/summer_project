{
 "cells": [
  {
   "cell_type": "markdown",
   "id": "55b1b89b",
   "metadata": {},
   "source": [
    "# Compute TNG-300-1 halo and galaxy properties (matching TNG-300-1-Dark for halo properties)"
   ]
  },
  {
   "cell_type": "code",
   "execution_count": 1,
   "id": "41621921",
   "metadata": {},
   "outputs": [],
   "source": [
    "import illustris_python as il\n",
    "import pandas as pd\n",
    "import numpy as np\n",
    "import h5py\n",
    "from scipy.optimize import fsolve\n",
    "from scipy import spatial\n",
    "import matplotlib.pyplot as plt\n",
    "from astropy.visualization import hist"
   ]
  },
  {
   "cell_type": "markdown",
   "id": "6b0671f9",
   "metadata": {},
   "source": [
    "### 1. Read group and subhalo catalogs for TNG-300-1 run"
   ]
  },
  {
   "cell_type": "code",
   "execution_count": 2,
   "id": "9172ca6e",
   "metadata": {},
   "outputs": [],
   "source": [
    "basePath_hydro = '/home/shihong/Documents/sibelius_dark_ml/deSanti_2021/TNG300-1/output/'\n",
    "snapIndex_hydro = 99"
   ]
  },
  {
   "cell_type": "markdown",
   "id": "f506e758",
   "metadata": {},
   "source": [
    "Load header information. The box size will be used to search neighboring subhalos"
   ]
  },
  {
   "cell_type": "code",
   "execution_count": 3,
   "id": "a20cdfc0",
   "metadata": {},
   "outputs": [],
   "source": [
    "header_hydro = il.groupcat.loadHeader(basePath_hydro, snapIndex_hydro)"
   ]
  },
  {
   "cell_type": "markdown",
   "id": "840cbd78",
   "metadata": {},
   "source": [
    "Load FOF group catalog."
   ]
  },
  {
   "cell_type": "code",
   "execution_count": 4,
   "id": "db0fa349",
   "metadata": {},
   "outputs": [
    {
     "name": "stdout",
     "output_type": "stream",
     "text": [
      "TNG-300-1 FOF group number: 17625892\n"
     ]
    }
   ],
   "source": [
    "fields = ['GroupFirstSub', 'Group_M_Crit200', 'Group_R_Crit200', 'GroupNsubs']\n",
    "halos_hydro = il.groupcat.loadHalos(basePath_hydro, snapIndex_hydro, fields=fields)\n",
    "print('TNG-300-1 FOF group number: %d' % (halos_hydro['count']))"
   ]
  },
  {
   "cell_type": "markdown",
   "id": "09900e78",
   "metadata": {},
   "source": [
    "Load subhalo catalog."
   ]
  },
  {
   "cell_type": "code",
   "execution_count": 5,
   "id": "00b8a8d9",
   "metadata": {},
   "outputs": [
    {
     "name": "stdout",
     "output_type": "stream",
     "text": [
      "TNG-300-1 subhalo number: 14485709\n"
     ]
    }
   ],
   "source": [
    "fields = ['SubhaloFlag', 'SubhaloGrNr', 'SubhaloPos', 'SubhaloLen', 'SubhaloLenType', 'SubhaloMassType', 'SubhaloSFR', 'SubhaloSpin', 'SubhaloHalfmassRadType', 'SubhaloStellarPhotometrics', 'SubhaloVmax']\n",
    "subhalos_hydro = il.groupcat.loadSubhalos(basePath_hydro, snapIndex_hydro, fields=fields)\n",
    "print('TNG-300-1 subhalo number: %d' % (subhalos_hydro['count']))"
   ]
  },
  {
   "cell_type": "markdown",
   "id": "0e1439c8",
   "metadata": {},
   "source": [
    "### 2. Read group and subhalo catalogs for TNG-300-1-Dark run"
   ]
  },
  {
   "cell_type": "code",
   "execution_count": 6,
   "id": "6007d4e3",
   "metadata": {},
   "outputs": [],
   "source": [
    "basePath_dark = '/home/shihong/Documents/sibelius_dark_ml/deSanti_2021/TNG300-1-Dark/output/'\n",
    "snapIndex_dark = 99"
   ]
  },
  {
   "cell_type": "code",
   "execution_count": 7,
   "id": "d6d3f6d3",
   "metadata": {},
   "outputs": [
    {
     "name": "stdout",
     "output_type": "stream",
     "text": [
      "TNG-300-1-Dark FOF group number: 13008511\n",
      "TNG-300-1-Dark subhalo number: 15724587\n"
     ]
    }
   ],
   "source": [
    "header_dark = il.groupcat.loadHeader(basePath_dark, snapIndex_dark)\n",
    "\n",
    "fields = ['GroupFirstSub', 'Group_M_Crit200', 'Group_R_Crit200', 'GroupNsubs']\n",
    "halos_dark = il.groupcat.loadHalos(basePath_dark, snapIndex_dark, fields=fields)\n",
    "print('TNG-300-1-Dark FOF group number: %d' % (halos_dark['count']))\n",
    "\n",
    "fields = ['SubhaloGrNr', 'SubhaloPos', 'SubhaloLen', 'SubhaloSpin', 'SubhaloVmax']\n",
    "subhalos_dark = il.groupcat.loadSubhalos(basePath_dark, snapIndex_dark, fields=fields)\n",
    "print('TNG-300-1-Dark subhalo number: %d' % (subhalos_dark['count']))"
   ]
  },
  {
   "cell_type": "markdown",
   "id": "b8d1299c",
   "metadata": {},
   "source": [
    "### 3. Read halo structure catalog for TNG-300-1-Dark"
   ]
  },
  {
   "cell_type": "markdown",
   "id": "70b410f1",
   "metadata": {},
   "source": [
    "We will use the halo formation time from this catalog. Note that this catalog is for halos in the FOF group catalog only."
   ]
  },
  {
   "cell_type": "code",
   "execution_count": 8,
   "id": "dc2dbee1",
   "metadata": {},
   "outputs": [],
   "source": [
    "path = '/home/shihong/Documents/sibelius_dark_ml/deSanti_2021/TNG300-1-Dark/postprocessing/halo_structure/halo_structure_099.hdf5'\n",
    "haloStructure_dark = h5py.File(path, 'r')\n",
    "a_form_dark = np.array(haloStructure_dark['a_form'])"
   ]
  },
  {
   "cell_type": "markdown",
   "id": "bf64f9d1",
   "metadata": {},
   "source": [
    "### 4. Read subhalo matching file"
   ]
  },
  {
   "cell_type": "code",
   "execution_count": 9,
   "id": "d4d406bd",
   "metadata": {},
   "outputs": [
    {
     "name": "stdout",
     "output_type": "stream",
     "text": [
      "Subhalo match array length: 14485709\n"
     ]
    }
   ],
   "source": [
    "path = '/home/shihong/Documents/sibelius_dark_ml/deSanti_2021/TNG300-1/postprocessing/matching/subhalo_matching_to_dark.hdf5'\n",
    "subhaloMatchingFile = h5py.File(path, 'r')\n",
    "subhaloMatch = np.array(subhaloMatchingFile['Snapshot_%d' % (snapIndex_dark)]['SubhaloIndexDark_SubLink'])\n",
    "print('Subhalo match array length: %d' % (len(subhaloMatch)))"
   ]
  },
  {
   "cell_type": "markdown",
   "id": "cbf6b11d",
   "metadata": {},
   "source": [
    "### 5. Select subhalo samples"
   ]
  },
  {
   "cell_type": "markdown",
   "id": "12e34b70",
   "metadata": {},
   "source": [
    "The selection criteria are:\n",
    "\n",
    "(1) central galaxies, \n",
    "\n",
    "(2) virial mass M200 >= 10^10.5 Msol/h,\n",
    "\n",
    "(3) total stellar mass M* >= 10^8.75 Msol/h,\n",
    "\n",
    "(4) 'SubhaloFlag' in the subhalo catalog is non-zero,\n",
    "\n",
    "(5) the suhalo is able to find a matched counterpart in TNG-300-1-Dark run,\n",
    "\n",
    "(6) the selected subhalo should have the formation time computed from the halo structure catalog."
   ]
  },
  {
   "cell_type": "code",
   "execution_count": 10,
   "id": "1d9dfe32",
   "metadata": {},
   "outputs": [
    {
     "name": "stdout",
     "output_type": "stream",
     "text": [
      "Total number of subhalos in TNG300-1: 14485709\n",
      "Number of selected subhalos for this study: 173453\n",
      "Minimum total particle number of selected subhalos: 848\n",
      "Minimum gas cell number of selected subhalos: 0\n",
      "Minimum star particle number of selected subhalos: 86\n"
     ]
    }
   ],
   "source": [
    "totSubhaloNum_hydro = len(subhalos_hydro['SubhaloFlag'])\n",
    "selectSubhaloIndex_hydro = np.full(totSubhaloNum_hydro, False)\n",
    "\n",
    "fofCatalogCriteria = halos_hydro['Group_M_Crit200']*1e10 >= 10**10.5  # Criteria (2)\n",
    "selectSubhaloIndex_hydro[halos_hydro['GroupFirstSub'][fofCatalogCriteria]] = True  # Criterion (1)\n",
    "subhaloStellarMass = (subhalos_hydro['SubhaloMassType'].T)[4] * 1e10\n",
    "selectSubhaloIndex_hydro[subhaloStellarMass < 10**8.75] = False  # Criterion (3)\n",
    "selectSubhaloIndex_hydro[subhalos_hydro['SubhaloFlag'] == 0] = False  # Criterion (4)\n",
    "selectSubhaloIndex_hydro[subhaloMatch < 0] = False  # Criterion (5)\n",
    "\n",
    "# Criterion (6)\n",
    "for i in range(totSubhaloNum_hydro):\n",
    "  if selectSubhaloIndex_hydro[i]:\n",
    "    matchIndex = subhaloMatch[i]\n",
    "    condition = a_form_dark[subhalos_dark['SubhaloGrNr'][matchIndex]] > 0.0\n",
    "    if condition == False:\n",
    "      selectSubhaloIndex_hydro[i] = False\n",
    "\n",
    "                            \n",
    "\n",
    "selectSubhaloNum_hydro = len(subhalos_hydro['SubhaloFlag'][selectSubhaloIndex_hydro])\n",
    "gasLen = (subhalos_hydro['SubhaloLenType'].T)[0]\n",
    "starLen = (subhalos_hydro['SubhaloLenType'].T)[4]\n",
    "\n",
    "print('Total number of subhalos in TNG300-1: %d' % (totSubhaloNum_hydro))\n",
    "print('Number of selected subhalos for this study: %d' % (selectSubhaloNum_hydro))\n",
    "print('Minimum total particle number of selected subhalos: %d' % (np.min(subhalos_hydro['SubhaloLen'][selectSubhaloIndex_hydro])))\n",
    "print('Minimum gas cell number of selected subhalos: %d' % (np.min(gasLen[selectSubhaloIndex_hydro])))\n",
    "print('Minimum star particle number of selected subhalos: %d' % (np.min(starLen[selectSubhaloIndex_hydro])))"
   ]
  },
  {
   "cell_type": "markdown",
   "id": "0811f74e",
   "metadata": {},
   "source": [
    "### 6. Retrieve/Compute halo/galaxy properties for selected subhalos"
   ]
  },
  {
   "cell_type": "markdown",
   "id": "f9b07569",
   "metadata": {},
   "source": [
    "#### Virial mass (Msol/h)"
   ]
  },
  {
   "cell_type": "code",
   "execution_count": 11,
   "id": "2ebec54c",
   "metadata": {},
   "outputs": [
    {
     "data": {
      "text/plain": [
       "Text(0.5, 0, 'log$_{10}$ $M_\\\\mathrm{vir}[h^{-1}M_\\\\odot]$')"
      ]
     },
     "execution_count": 11,
     "metadata": {},
     "output_type": "execute_result"
    },
    {
     "data": {
      "image/png": "[encoded data removed]",
      "text/plain": [
       "<Figure size 600x400 with 1 Axes>"
      ]
     },
     "metadata": {
      "needs_background": "light"
     },
     "output_type": "display_data"
    }
   ],
   "source": [
    "selectSubhaloIndex_dark = subhaloMatch[selectSubhaloIndex_hydro]\n",
    "selectSubhaloGrNr_dark = subhalos_dark['SubhaloGrNr'][selectSubhaloIndex_dark]\n",
    "Mvir_in_Msol = halos_dark['Group_M_Crit200'][selectSubhaloGrNr_dark] * 1e10\n",
    "\n",
    "plt.figure(dpi = 100)\n",
    "hist(np.log10(Mvir_in_Msol), bins = 'scott')\n",
    "plt.yscale('log')\n",
    "plt.ylabel('$\\#$ of central galaxies')\n",
    "plt.xlabel('log$_{10}$ $M_\\mathrm{vir}[h^{-1}M_\\odot]$')"
   ]
  },
  {
   "cell_type": "markdown",
   "id": "3fed2119",
   "metadata": {},
   "source": [
    "#### Formation time (redshift)"
   ]
  },
  {
   "cell_type": "code",
   "execution_count": 12,
   "id": "8b6ee7d2",
   "metadata": {},
   "outputs": [
    {
     "data": {
      "text/plain": [
       "Text(0.5, 0, '$z_\\\\mathrm{form}$')"
      ]
     },
     "execution_count": 12,
     "metadata": {},
     "output_type": "execute_result"
    },
    {
     "data": {
      "image/png": "[encoded data removed]",
      "text/plain": [
       "<Figure size 600x400 with 1 Axes>"
      ]
     },
     "metadata": {
      "needs_background": "light"
     },
     "output_type": "display_data"
    }
   ],
   "source": [
    "z_form = 1. / a_form_dark[selectSubhaloGrNr_dark] - 1.\n",
    "\n",
    "plt.figure(dpi = 100)\n",
    "hist(z_form, bins = 'scott')\n",
    "plt.yscale('log')\n",
    "plt.ylabel('$\\#$ of central galaxies')\n",
    "plt.xlabel('$z_\\mathrm{form}$')"
   ]
  },
  {
   "cell_type": "markdown",
   "id": "60411750",
   "metadata": {},
   "source": [
    "#### Spin parameter"
   ]
  },
  {
   "cell_type": "markdown",
   "id": "1cf829cb",
   "metadata": {},
   "source": [
    "As a quick estimation, use the specific angular momentum information in the subhalo catalog, and the virial mass and virial radius from the group catalog to compute according to the Bullock et al. (2001) definition."
   ]
  },
  {
   "cell_type": "code",
   "execution_count": 13,
   "id": "40850f6e",
   "metadata": {},
   "outputs": [
    {
     "data": {
      "text/plain": [
       "Text(0.5, 0, 'log$_{10} \\\\lambda$')"
      ]
     },
     "execution_count": 13,
     "metadata": {},
     "output_type": "execute_result"
    },
    {
     "data": {
      "image/png": "[encoded data removed]",
      "text/plain": [
       "<Figure size 600x400 with 1 Axes>"
      ]
     },
     "metadata": {
      "needs_background": "light"
     },
     "output_type": "display_data"
    }
   ],
   "source": [
    "Mvir = halos_dark['Group_M_Crit200'][selectSubhaloGrNr_dark]\n",
    "Rvir = halos_dark['Group_R_Crit200'][selectSubhaloGrNr_dark]\n",
    "G_const = 43007.1\n",
    "Vvir = (G_const * Mvir / Rvir)**0.5\n",
    "subhaloSpin = subhalos_dark['SubhaloSpin'].T\n",
    "j = (subhaloSpin[0][selectSubhaloIndex_dark]**2. + subhaloSpin[1][selectSubhaloIndex_dark]**2. + subhaloSpin[2][selectSubhaloIndex_dark]**2.)**0.5\n",
    "spinParam = j / (2**0.5 * Vvir * Rvir)\n",
    "\n",
    "plt.figure(dpi = 100)\n",
    "hist(np.log10(spinParam), bins = 'scott')\n",
    "plt.yscale('log')\n",
    "plt.ylabel('$\\#$ of central galaxies')\n",
    "plt.xlabel('log$_{10} \\lambda$')"
   ]
  },
  {
   "cell_type": "markdown",
   "id": "24b0144b",
   "metadata": {},
   "source": [
    "#### Concentration"
   ]
  },
  {
   "cell_type": "markdown",
   "id": "c9a1f024",
   "metadata": {},
   "source": [
    "Assume an NFW density profile, numerically sovle c200 from the ratio of Vmax/V200."
   ]
  },
  {
   "cell_type": "code",
   "execution_count": 14,
   "id": "390155a8",
   "metadata": {},
   "outputs": [
    {
     "name": "stderr",
     "output_type": "stream",
     "text": [
      "/home/local/shihong/Libraries/anaconda3/lib/python3.9/site-packages/scipy/optimize/minpack.py:175: RuntimeWarning: The iteration is not making good progress, as measured by the \n",
      "  improvement from the last ten iterations.\n",
      "  warnings.warn(msg, RuntimeWarning)\n",
      "/tmp/ipykernel_1888/56356432.py:2: RuntimeWarning: invalid value encountered in log\n",
      "  return np.log(1. + x) - x / (1. + x)\n",
      "/tmp/ipykernel_1888/56356432.py:5: RuntimeWarning: invalid value encountered in sqrt\n",
      "  return Vmax/V200 - (0.216 * x / func(x))**0.5\n",
      "/home/local/shihong/Libraries/anaconda3/lib/python3.9/site-packages/scipy/optimize/minpack.py:175: RuntimeWarning: The iteration is not making good progress, as measured by the \n",
      "  improvement from the last five Jacobian evaluations.\n",
      "  warnings.warn(msg, RuntimeWarning)\n"
     ]
    },
    {
     "data": {
      "text/plain": [
       "Text(0.5, 0, 'Concentration')"
      ]
     },
     "execution_count": 14,
     "metadata": {},
     "output_type": "execute_result"
    },
    {
     "data": {
      "image/png": "[encoded data removed]",
      "text/plain": [
       "<Figure size 600x400 with 1 Axes>"
      ]
     },
     "metadata": {
      "needs_background": "light"
     },
     "output_type": "display_data"
    }
   ],
   "source": [
    "def func(x):\n",
    "  return np.log(1. + x) - x / (1. + x)\n",
    "\n",
    "def solve_func(x, Vmax, V200):\n",
    "  return Vmax/V200 - (0.216 * x / func(x))**0.5\n",
    "\n",
    "Vmax = subhalos_dark['SubhaloVmax'][selectSubhaloIndex_dark]\n",
    "cvir = np.arange(selectSubhaloNum_hydro, dtype='float64')\n",
    "for i in range(selectSubhaloNum_hydro):\n",
    "  cvir[i] = fsolve(solve_func, x0=10., args=(Vmax[i], Vvir[i]))\n",
    "\n",
    "plt.figure(dpi = 100)\n",
    "hist(cvir, bins = 'scott')\n",
    "plt.yscale('log')\n",
    "plt.ylabel('$\\#$ of central galaxies')\n",
    "plt.xlabel('Concentration')"
   ]
  },
  {
   "cell_type": "markdown",
   "id": "67a76eab",
   "metadata": {},
   "source": [
    "#### Overdensity on a 3 Mpc/h scale"
   ]
  },
  {
   "cell_type": "markdown",
   "id": "88268e52",
   "metadata": {},
   "source": [
    "Use KD-Tree for neighboring search."
   ]
  },
  {
   "cell_type": "code",
   "execution_count": 15,
   "id": "912d758c",
   "metadata": {},
   "outputs": [
    {
     "data": {
      "text/plain": [
       "Text(0.5, 0, 'log$_{10}$ $\\\\Delta_{3Mpc}$')"
      ]
     },
     "execution_count": 15,
     "metadata": {},
     "output_type": "execute_result"
    },
    {
     "data": {
      "image/png": "[encoded data removed]",
      "text/plain": [
       "<Figure size 600x400 with 1 Axes>"
      ]
     },
     "metadata": {
      "needs_background": "light"
     },
     "output_type": "display_data"
    }
   ],
   "source": [
    "Delta3_h = np.zeros(selectSubhaloNum_hydro, dtype='float64')\n",
    "environmentRadius = 3000.0  # in kpc/h\n",
    "\n",
    "boxSize = header_dark['BoxSize']\n",
    "allSubhaloPos = subhalos_dark['SubhaloPos']\n",
    "allSubhaloPos = allSubhaloPos.T\n",
    "for i in range(3):\n",
    "  allSubhaloPos[i][allSubhaloPos[i] >= boxSize] = allSubhaloPos[i][allSubhaloPos[i] >= boxSize] - boxSize\n",
    "  allSubhaloPos[i][allSubhaloPos[i] < 0.0] = allSubhaloPos[i][allSubhaloPos[i] < 0.0] + boxSize\n",
    "\n",
    "allSubhaloPos = allSubhaloPos.T\n",
    "tree = spatial.cKDTree(allSubhaloPos, boxsize=boxSize)\n",
    "\n",
    "selectSubhaloPos = subhalos_dark['SubhaloPos'][selectSubhaloIndex_dark]\n",
    "\n",
    "for i in range(selectSubhaloNum_hydro):\n",
    "  allNeighborList = tree.query_ball_point(selectSubhaloPos[i], environmentRadius)\n",
    "  sameHaloNeighborList = tree.query_ball_point(selectSubhaloPos[i], halos_dark['Group_R_Crit200'][selectSubhaloGrNr_dark[i]])\n",
    "  Delta3_h[i] = len(allNeighborList) - len(sameHaloNeighborList)\n",
    "\n",
    "meanSubhaloNumDen = totSubhaloNum_hydro / boxSize**3.0\n",
    "sphereVol = 4. * np.pi * environmentRadius**3. / 3.\n",
    "Delta3_h = Delta3_h / sphereVol / meanSubhaloNumDen\n",
    "\n",
    "plt.figure(dpi = 100)\n",
    "hist(np.log10(Delta3_h), bins = 'scott')\n",
    "plt.yscale('log')\n",
    "plt.ylabel('$\\#$ of central galaxies')\n",
    "plt.xlabel('log$_{10}$ $\\Delta_{3Mpc}$')"
   ]
  },
  {
   "cell_type": "markdown",
   "id": "a5176b88",
   "metadata": {},
   "source": [
    "#### SFR (Msol/yr)"
   ]
  },
  {
   "cell_type": "code",
   "execution_count": 16,
   "id": "4b59105f",
   "metadata": {},
   "outputs": [],
   "source": [
    "SFR_in_Msol_per_yr = subhalos_hydro['SubhaloSFR'][selectSubhaloIndex_hydro]"
   ]
  },
  {
   "cell_type": "markdown",
   "id": "6aca5b8a",
   "metadata": {},
   "source": [
    "#### Stellar mass (Msol)"
   ]
  },
  {
   "cell_type": "code",
   "execution_count": 17,
   "id": "f7a8ad80",
   "metadata": {},
   "outputs": [
    {
     "data": {
      "text/plain": [
       "Text(0.5, 0, 'log$_{10}$ $M_\\\\star[h^{-1}M_\\\\odot]$')"
      ]
     },
     "execution_count": 17,
     "metadata": {},
     "output_type": "execute_result"
    },
    {
     "data": {
      "image/png": "[encoded data removed]",
      "text/plain": [
       "<Figure size 600x400 with 1 Axes>"
      ]
     },
     "metadata": {
      "needs_background": "light"
     },
     "output_type": "display_data"
    }
   ],
   "source": [
    "Mstar_in_Msol = (subhalos_hydro['SubhaloMassType'].T)[4][selectSubhaloIndex_hydro] * 1e10\n",
    "\n",
    "plt.figure(dpi = 100)\n",
    "hist(np.log10(Mstar_in_Msol), bins = 'scott')\n",
    "plt.yscale('log')\n",
    "plt.ylabel('$\\#$ of central galaxies')\n",
    "plt.xlabel('log$_{10}$ $M_\\star[h^{-1}M_\\odot]$')"
   ]
  },
  {
   "cell_type": "markdown",
   "id": "74879386",
   "metadata": {},
   "source": [
    "#### sSFR (yr^-1)"
   ]
  },
  {
   "cell_type": "markdown",
   "id": "d6dbddcd",
   "metadata": {},
   "source": [
    "Note that as mentioned in de Santi et al. (2021), ~14% of the galaxies in TNG300-1 have SFR = 0, which originates from the numerical resolution. Following the authors, for these null-SFR galaxies, generate an non-zero log sSFR for them from a Gaussian distribution with the mean of -13.5 and sigma of 0.5 (see their Section 2.2 for details)."
   ]
  },
  {
   "cell_type": "code",
   "execution_count": 18,
   "id": "aa4965ef",
   "metadata": {},
   "outputs": [
    {
     "name": "stdout",
     "output_type": "stream",
     "text": [
      "Zero sSFR number: 24389\n",
      "Zero sSFR Fraction: 0.140609\n"
     ]
    },
    {
     "data": {
      "text/plain": [
       "Text(0.5, 0, 'log$_{10}$ sSFR [yr$^{-1}$]')"
      ]
     },
     "execution_count": 18,
     "metadata": {},
     "output_type": "execute_result"
    },
    {
     "data": {
      "image/png": "[encoded data removed]",
      "text/plain": [
       "<Figure size 600x400 with 1 Axes>"
      ]
     },
     "metadata": {
      "needs_background": "light"
     },
     "output_type": "display_data"
    }
   ],
   "source": [
    "sSFR_in_per_yr = SFR_in_Msol_per_yr / Mstar_in_Msol\n",
    "zerosSFRNum = len(sSFR_in_per_yr[sSFR_in_per_yr == 0.0])\n",
    "print('Zero sSFR number: %d' % (zerosSFRNum))\n",
    "print('Zero sSFR Fraction: %g' % (float(zerosSFRNum) / selectSubhaloNum_hydro))\n",
    "\n",
    "np.random.seed(42)\n",
    "gaussianLogsSFR = np.random.normal(-13.5, 0.5, zerosSFRNum)\n",
    "sSFR_in_per_yr[sSFR_in_per_yr == 0.0] = 10.**gaussianLogsSFR\n",
    "\n",
    "plt.figure(dpi = 100)\n",
    "hist(np.log10(sSFR_in_per_yr), bins = 'scott')\n",
    "plt.yscale('log')\n",
    "plt.ylabel('$\\#$ of central galaxies')\n",
    "plt.xlabel('log$_{10}$ sSFR [yr$^{-1}$]')"
   ]
  },
  {
   "cell_type": "markdown",
   "id": "eb87736d",
   "metadata": {},
   "source": [
    "#### g-i color"
   ]
  },
  {
   "cell_type": "code",
   "execution_count": 19,
   "id": "c83404fd",
   "metadata": {},
   "outputs": [
    {
     "data": {
      "text/plain": [
       "Text(0.5, 0, '$g-i$')"
      ]
     },
     "execution_count": 19,
     "metadata": {},
     "output_type": "execute_result"
    },
    {
     "data": {
      "image/png": "[encoded data removed]",
      "text/plain": [
       "<Figure size 600x400 with 1 Axes>"
      ]
     },
     "metadata": {
      "needs_background": "light"
     },
     "output_type": "display_data"
    }
   ],
   "source": [
    "g_i_color = (subhalos_hydro['SubhaloStellarPhotometrics'].T)[4][selectSubhaloIndex_hydro] - (subhalos_hydro['SubhaloStellarPhotometrics'].T)[6][selectSubhaloIndex_hydro]\n",
    "\n",
    "plt.figure(dpi = 100)\n",
    "hist(g_i_color, bins = 'scott')\n",
    "plt.yscale('log')\n",
    "plt.ylabel('$\\#$ of central galaxies')\n",
    "plt.xlabel('$g-i$')"
   ]
  },
  {
   "cell_type": "markdown",
   "id": "c243774b",
   "metadata": {},
   "source": [
    "#### Stellar half-mass radius (kpc/h)"
   ]
  },
  {
   "cell_type": "code",
   "execution_count": 20,
   "id": "6cba133c",
   "metadata": {},
   "outputs": [
    {
     "data": {
      "text/plain": [
       "Text(0.5, 0, 'log$_{10} R_{1/2} [h^{-1} \\\\mathrm{kpc}]$')"
      ]
     },
     "execution_count": 20,
     "metadata": {},
     "output_type": "execute_result"
    },
    {
     "data": {
      "image/png": "[encoded data removed]",
      "text/plain": [
       "<Figure size 600x400 with 1 Axes>"
      ]
     },
     "metadata": {
      "needs_background": "light"
     },
     "output_type": "display_data"
    }
   ],
   "source": [
    "stellarHalfmassRad_in_kpc = (subhalos_hydro['SubhaloHalfmassRadType'].T)[4][selectSubhaloIndex_hydro]\n",
    "\n",
    "plt.figure(dpi = 100)\n",
    "hist(np.log10(stellarHalfmassRad_in_kpc), bins = 'scott')\n",
    "plt.yscale('log')\n",
    "plt.ylabel('$\\#$ of central galaxies')\n",
    "plt.xlabel('log$_{10} R_{1/2} [h^{-1} \\mathrm{kpc}]$')"
   ]
  },
  {
   "cell_type": "markdown",
   "id": "99f6005f",
   "metadata": {},
   "source": [
    "### 7. Construct data frame with pandas and output"
   ]
  },
  {
   "cell_type": "markdown",
   "id": "6db9f4a9",
   "metadata": {},
   "source": [
    "By reading the jupyter notebook code in github for de Santi et al. (2021), the virial mass, concentration, stellar mass, sSFR, and stellar half-mass radius in the output .csv file should be logarithmic."
   ]
  },
  {
   "cell_type": "code",
   "execution_count": 21,
   "id": "536eef14",
   "metadata": {},
   "outputs": [],
   "source": [
    "d = {}\n",
    "d['M_h'] = np.log10(Mvir_in_Msol)\n",
    "d['C_h'] = np.log10(cvir)\n",
    "d['S_h'] = spinParam\n",
    "d['z_h'] = z_form\n",
    "d['Delta3_h'] = Delta3_h\n",
    "d['stellar_mass'] = np.log10(Mstar_in_Msol)\n",
    "d['sSFR'] = np.log10(sSFR_in_per_yr)\n",
    "d['radius'] = np.log10(stellarHalfmassRad_in_kpc)\n",
    "d['color'] = g_i_color\n",
    "\n",
    "df = pd.DataFrame(data=d)\n",
    "df.to_csv('./IllustrisTNG_match_dark_run.csv', index=False)"
   ]
  },
  {
   "cell_type": "code",
   "execution_count": null,
   "id": "da2ee2d1",
   "metadata": {},
   "outputs": [],
   "source": []
  }
 ],
 "metadata": {
  "kernelspec": {
   "display_name": "Python 3 (ipykernel)",
   "language": "python",
   "name": "python3"
  },
  "language_info": {
   "codemirror_mode": {
    "name": "ipython",
    "version": 3
   },
   "file_extension": ".py",
   "mimetype": "text/x-python",
   "name": "python",
   "nbconvert_exporter": "python",
   "pygments_lexer": "ipython3",
   "version": "3.9.7"
  }
 },
 "nbformat": 4,
 "nbformat_minor": 5
}
