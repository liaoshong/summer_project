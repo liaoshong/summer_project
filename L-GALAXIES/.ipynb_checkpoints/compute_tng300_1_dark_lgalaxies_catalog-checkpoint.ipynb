{
 "cells": [
  {
   "cell_type": "markdown",
   "id": "0a7824cb",
   "metadata": {},
   "source": [
    "# TNG300-1-Dark L-GALAXIES Catalogue"
   ]
  },
  {
   "cell_type": "code",
   "execution_count": 1,
   "id": "2c63b9db",
   "metadata": {},
   "outputs": [],
   "source": [
    "import illustris_python as il\n",
    "import pandas as pd\n",
    "import numpy as np\n",
    "import h5py\n",
    "from scipy.optimize import fsolve\n",
    "from scipy import spatial\n",
    "from scipy.integrate import quad\n",
    "import matplotlib.pyplot as plt"
   ]
  },
  {
   "cell_type": "markdown",
   "id": "b4427aca",
   "metadata": {},
   "source": [
    "### Read group and subhalo catalogs"
   ]
  },
  {
   "cell_type": "code",
   "execution_count": 2,
   "id": "489bbe79",
   "metadata": {},
   "outputs": [],
   "source": [
    "basePath = '/scratch/pjohanss/liaoshih/TNG_data/TNG300-1-Dark/output/'\n",
    "snapIndex = 99"
   ]
  },
  {
   "cell_type": "markdown",
   "id": "ee699a27",
   "metadata": {},
   "source": [
    "Load header information. The box size will be used to search neighboring subhalos"
   ]
  },
  {
   "cell_type": "code",
   "execution_count": 3,
   "id": "0f41f17d",
   "metadata": {},
   "outputs": [],
   "source": [
    "header = il.groupcat.loadHeader(basePath, snapIndex)"
   ]
  },
  {
   "cell_type": "markdown",
   "id": "b3596d77",
   "metadata": {},
   "source": [
    "Load FOF group and SUBFIND catalog."
   ]
  },
  {
   "cell_type": "code",
   "execution_count": 4,
   "id": "6cac7766",
   "metadata": {},
   "outputs": [],
   "source": [
    "fields = ['GroupFirstSub', 'Group_M_Crit200', 'Group_R_Crit200', 'GroupNsubs']\n",
    "halos = il.groupcat.loadHalos(basePath, snapIndex, fields=fields)\n",
    "fields = ['SubhaloGrNr', 'SubhaloPos', 'SubhaloLen', 'SubhaloMass','SubhaloVmax', 'SubhaloVmaxRad', 'SubhaloSpin']\n",
    "subhalos = il.groupcat.loadSubhalos(basePath, snapIndex, fields=fields)"
   ]
  },
  {
   "cell_type": "markdown",
   "id": "13a4830a",
   "metadata": {},
   "source": [
    "### Read halo structure catalog provided in TNG database"
   ]
  },
  {
   "cell_type": "code",
   "execution_count": 5,
   "id": "749ac6c9",
   "metadata": {},
   "outputs": [],
   "source": [
    "path = '/scratch/pjohanss/liaoshih/TNG_data/TNG300-1-Dark/postprocessing/halo_structure/halo_structure_099.hdf5'\n",
    "haloStructure = h5py.File(path, 'r')\n",
    "c200c = np.array(haloStructure['c200c'])\n",
    "a_form = np.array(haloStructure['a_form'])"
   ]
  },
  {
   "cell_type": "markdown",
   "id": "df456a00",
   "metadata": {},
   "source": [
    "### Read L-Galaxies data"
   ]
  },
  {
   "cell_type": "code",
   "execution_count": 6,
   "id": "ef033f3c",
   "metadata": {},
   "outputs": [],
   "source": [
    "path = '/scratch/pjohanss/liaoshih/TNG_data/TNG300-1/postprocessing/lgalaxies/LGalaxies_099.hdf5'\n",
    "lgalaxies = h5py.File(path, 'r')\n",
    "SubhaloIndex_tng_dark = np.array(lgalaxies['Galaxy']['SubhaloIndex_TNG-Dark'])\n",
    "bulge_size = np.array(lgalaxies['Galaxy']['BulgeSize'])\n",
    "disk_size = np.array(lgalaxies['Galaxy']['StellarDiskRadius'])\n",
    "star_formation_rate = np.array(lgalaxies['Galaxy']['StarFormationRate'])\n",
    "stellar_mass = np.array(lgalaxies['Galaxy']['StellarMass'])\n",
    "bulge_mass = np.array(lgalaxies['Galaxy']['StellarBulgeMass'])\n",
    "disk_mass = np.array(lgalaxies['Galaxy']['StellarDiskMass'])\n",
    "mag = np.array(lgalaxies['Galaxy']['Mag']).T\n",
    "lgalaxy_type = np.array(lgalaxies['Galaxy']['Type'])\n",
    "\n",
    "match_index = SubhaloIndex_tng_dark[(SubhaloIndex_tng_dark >= 0) & (lgalaxy_type < 2)]\n",
    "tmp_index = np.arange(len(SubhaloIndex_tng_dark), dtype='int')\n",
    "\n",
    "subhalos['lgalaxyIndex'] = np.full(len(subhalos['SubhaloLen']), -1)\n",
    "subhalos['lgalaxyIndex'][match_index] = tmp_index[(SubhaloIndex_tng_dark >= 0) & (lgalaxy_type < 2)]"
   ]
  },
  {
   "cell_type": "markdown",
   "id": "6d4585c6",
   "metadata": {},
   "source": [
    "### Select subhalo samples"
   ]
  },
  {
   "cell_type": "markdown",
   "id": "7b87f8f9",
   "metadata": {},
   "source": [
    "Select criteria: (1) central galaxies, (2) virial mass M200 >= 10^10.5 Msol/h, (3) the selected subhalo should have the formation time computed from the halo structure catalog, (4) the selected subhalo should have a L-GALAXIES galaxy with type = 0 or type = 1, (5) stellar mass M* >= 10^8.75 Msol/h."
   ]
  },
  {
   "cell_type": "code",
   "execution_count": 7,
   "id": "b810b892",
   "metadata": {},
   "outputs": [
    {
     "name": "stdout",
     "output_type": "stream",
     "text": [
      "Total number of subhalos in TNG300-1: 15724587\n",
      "Number of selected subhalos for this study: 208786\n",
      "Minimum total particle number of selected subhalos: 507\n"
     ]
    }
   ],
   "source": [
    "totSubhaloNum = len(subhalos['SubhaloLen'])\n",
    "selectSubhaloIndex = np.full(totSubhaloNum, False)\n",
    "\n",
    "fofCatalogCriteria = (halos['Group_M_Crit200']*1e10 >= 10**10.5) & (a_form > 0.)  # Criteria (2) and (3)\n",
    "selectSubhaloIndex[halos['GroupFirstSub'][fofCatalogCriteria]] = True  # Criterion (1)\n",
    "selectSubhaloIndex[subhalos['lgalaxyIndex'] < 0] = False  # Criterion (4)\n",
    "\n",
    "stellar_mass_tmp = np.zeros(totSubhaloNum, dtype='float')\n",
    "stellar_mass_tmp[subhalos['lgalaxyIndex']>=0] = stellar_mass[subhalos['lgalaxyIndex'][subhalos['lgalaxyIndex']>=0]]*1e10\n",
    "selectSubhaloIndex[stellar_mass_tmp < 10**8.75] = False # Criterion (5)\n",
    "\n",
    "#star_formation_rate_tmp = np.zeros(totSubhaloNum, dtype='float')\n",
    "#star_formation_rate_tmp[subhalos['lgalaxyIndex']>=0] = star_formation_rate[subhalos['lgalaxyIndex'][subhalos['lgalaxyIndex']>=0]]\n",
    "#selectSubhaloIndex[star_formation_rate_tmp <= 0.] = False # Criterion (6)\n",
    "\n",
    "selectSubhaloNum = len(subhalos['SubhaloLen'][selectSubhaloIndex])\n",
    "\n",
    "print('Total number of subhalos in TNG300-1: %d' % (totSubhaloNum))\n",
    "print('Number of selected subhalos for this study: %d' % (selectSubhaloNum))\n",
    "print('Minimum total particle number of selected subhalos: %d' % (np.min(subhalos['SubhaloLen'][selectSubhaloIndex])))"
   ]
  },
  {
   "cell_type": "markdown",
   "id": "a6a8c195",
   "metadata": {},
   "source": [
    "### Retrieve halo/galaxy properties for selected subhalos"
   ]
  },
  {
   "cell_type": "markdown",
   "id": "3901bce7",
   "metadata": {},
   "source": [
    "#### Virial mass (Msol/h)"
   ]
  },
  {
   "cell_type": "code",
   "execution_count": 8,
   "id": "ec7bfab8",
   "metadata": {},
   "outputs": [
    {
     "data": {
      "text/plain": [
       "Text(0.5, 0, 'log$_{10}$ $M_\\\\mathrm{vir}[h^{-1}M_\\\\odot]$')"
      ]
     },
     "execution_count": 8,
     "metadata": {},
     "output_type": "execute_result"
    },
    {
     "data": {
      "image/png": "[encoded data removed]",
      "text/plain": [
       "<Figure size 600x400 with 1 Axes>"
      ]
     },
     "metadata": {
      "needs_background": "light"
     },
     "output_type": "display_data"
    }
   ],
   "source": [
    "selectSubhaloGrNr = subhalos['SubhaloGrNr'][selectSubhaloIndex]\n",
    "Mvir_in_Msol = halos['Group_M_Crit200'][selectSubhaloGrNr] * 1e10\n",
    "\n",
    "plt.figure(dpi = 100)\n",
    "plt.hist(np.log10(Mvir_in_Msol), bins=100)\n",
    "plt.yscale('log')\n",
    "plt.ylabel('$\\#$ of central galaxies')\n",
    "plt.xlabel('log$_{10}$ $M_\\mathrm{vir}[h^{-1}M_\\odot]$')"
   ]
  },
  {
   "cell_type": "markdown",
   "id": "7374ca34",
   "metadata": {},
   "source": [
    "#### Formation time (redshift)"
   ]
  },
  {
   "cell_type": "code",
   "execution_count": 9,
   "id": "8228cc21",
   "metadata": {},
   "outputs": [
    {
     "data": {
      "text/plain": [
       "Text(0.5, 0, '$z_\\\\mathrm{form}$')"
      ]
     },
     "execution_count": 9,
     "metadata": {},
     "output_type": "execute_result"
    },
    {
     "data": {
      "image/png": "[encoded data removed]",
      "text/plain": [
       "<Figure size 600x400 with 1 Axes>"
      ]
     },
     "metadata": {
      "needs_background": "light"
     },
     "output_type": "display_data"
    }
   ],
   "source": [
    "z_form = 1. / a_form[selectSubhaloGrNr] - 1.\n",
    "\n",
    "plt.figure(dpi = 100)\n",
    "plt.hist(z_form, bins=100)\n",
    "plt.yscale('log')\n",
    "plt.ylabel('$\\#$ of central galaxies')\n",
    "plt.xlabel('$z_\\mathrm{form}$')"
   ]
  },
  {
   "cell_type": "markdown",
   "id": "7a400192",
   "metadata": {},
   "source": [
    "#### Spin parameter"
   ]
  },
  {
   "cell_type": "code",
   "execution_count": 10,
   "id": "ac42d06e",
   "metadata": {},
   "outputs": [
    {
     "data": {
      "text/plain": [
       "Text(0.5, 0, 'log$_{10} \\\\lambda$')"
      ]
     },
     "execution_count": 10,
     "metadata": {},
     "output_type": "execute_result"
    },
    {
     "data": {
      "image/png": "[encoded data removed]",
      "text/plain": [
       "<Figure size 600x400 with 1 Axes>"
      ]
     },
     "metadata": {
      "needs_background": "light"
     },
     "output_type": "display_data"
    }
   ],
   "source": [
    "Mvir = halos['Group_M_Crit200'][selectSubhaloGrNr]\n",
    "Rvir = halos['Group_R_Crit200'][selectSubhaloGrNr]\n",
    "G_const = 43007.1\n",
    "Vvir = (G_const * Mvir / Rvir)**0.5\n",
    "subhaloSpin = subhalos['SubhaloSpin'].T\n",
    "j = (subhaloSpin[0][selectSubhaloIndex]**2. + subhaloSpin[1][selectSubhaloIndex]**2. + subhaloSpin[2][selectSubhaloIndex]**2.)**0.5\n",
    "spinParam = j / (2**0.5 * Vvir * Rvir)\n",
    "\n",
    "plt.figure(dpi = 100)\n",
    "plt.hist(np.log10(spinParam), bins=100)\n",
    "plt.yscale('log')\n",
    "plt.ylabel('$\\#$ of central galaxies')\n",
    "plt.xlabel('log$_{10} \\lambda$')"
   ]
  },
  {
   "cell_type": "markdown",
   "id": "dae47abe",
   "metadata": {},
   "source": [
    "#### Concentration"
   ]
  },
  {
   "cell_type": "markdown",
   "id": "52538450",
   "metadata": {},
   "source": [
    "Assume an NFW density profile, numerically sovle c200 from the ratio of Vmax/V200."
   ]
  },
  {
   "cell_type": "code",
   "execution_count": 11,
   "id": "42c495ad",
   "metadata": {},
   "outputs": [
    {
     "data": {
      "text/plain": [
       "Text(0.5, 0, 'Concentration')"
      ]
     },
     "execution_count": 11,
     "metadata": {},
     "output_type": "execute_result"
    },
    {
     "data": {
      "image/png": "[encoded data removed]",
      "text/plain": [
       "<Figure size 600x400 with 1 Axes>"
      ]
     },
     "metadata": {
      "needs_background": "light"
     },
     "output_type": "display_data"
    }
   ],
   "source": [
    "def func(x):\n",
    "  return np.log(1. + x) - x / (1. + x)\n",
    "\n",
    "def solve_func(x, Vmax, V200):\n",
    "  return Vmax/V200 - (0.216 * x / func(x))**0.5\n",
    "\n",
    "Vmax = subhalos['SubhaloVmax'][selectSubhaloIndex]\n",
    "Rmax = subhalos['SubhaloVmaxRad'][selectSubhaloIndex]\n",
    "NpartTot = subhalos['SubhaloLen'][selectSubhaloIndex]\n",
    "cvir = np.arange(selectSubhaloNum, dtype='float64')\n",
    "for i in range(selectSubhaloNum):\n",
    "  if Vmax[i] <= Vvir[i]:\n",
    "    cvir[i] = -1\n",
    "  else:\n",
    "    cvir[i] = fsolve(solve_func, x0=10., args=(Vmax[i], Vvir[i]))\n",
    "\n",
    "plt.figure(dpi = 100)\n",
    "plt.hist(cvir, bins=100)\n",
    "plt.yscale('log')\n",
    "plt.ylabel('$\\#$ of central galaxies')\n",
    "plt.xlabel('Concentration')"
   ]
  },
  {
   "cell_type": "markdown",
   "id": "90b77378",
   "metadata": {},
   "source": [
    "#### Overdensity on a 3 Mpc/h scale"
   ]
  },
  {
   "cell_type": "markdown",
   "id": "86cdc795",
   "metadata": {},
   "source": [
    "Use KD-Tree for neighboring search."
   ]
  },
  {
   "cell_type": "code",
   "execution_count": 12,
   "id": "c22a15bf",
   "metadata": {},
   "outputs": [
    {
     "data": {
      "text/plain": [
       "Text(0.5, 0, 'log$_{10}$ $\\\\Delta_{3Mpc}$')"
      ]
     },
     "execution_count": 12,
     "metadata": {},
     "output_type": "execute_result"
    },
    {
     "data": {
      "image/png": "[encoded data removed]",
      "text/plain": [
       "<Figure size 600x400 with 1 Axes>"
      ]
     },
     "metadata": {
      "needs_background": "light"
     },
     "output_type": "display_data"
    }
   ],
   "source": [
    "Delta3_h = np.zeros(selectSubhaloNum, dtype='float64')\n",
    "environmentRadius = 3000.0\n",
    "\n",
    "boxSize = header['BoxSize']\n",
    "allSubhaloPos = subhalos['SubhaloPos']\n",
    "allSubhaloPos = allSubhaloPos.T\n",
    "for i in range(3):\n",
    "  allSubhaloPos[i][allSubhaloPos[i] >= boxSize] = allSubhaloPos[i][allSubhaloPos[i] >= boxSize] - boxSize\n",
    "  allSubhaloPos[i][allSubhaloPos[i] < 0.0] = allSubhaloPos[i][allSubhaloPos[i] < 0.0] + boxSize\n",
    "\n",
    "allSubhaloPos = allSubhaloPos.T\n",
    "tree = spatial.cKDTree(allSubhaloPos, boxsize=boxSize)\n",
    "\n",
    "selectSubhaloPos = subhalos['SubhaloPos'][selectSubhaloIndex]\n",
    "\n",
    "for i in range(selectSubhaloNum):\n",
    "  allNeighborList = tree.query_ball_point(selectSubhaloPos[i], environmentRadius)\n",
    "  sameHaloNeighborList = tree.query_ball_point(selectSubhaloPos[i], halos['Group_R_Crit200'][selectSubhaloGrNr[i]])\n",
    "  Delta3_h[i] = len(allNeighborList) - len(sameHaloNeighborList)\n",
    "\n",
    "meanSubhaloNumDen = totSubhaloNum / boxSize**3.0\n",
    "sphereVol = 4. * np.pi * environmentRadius**3. / 3.\n",
    "Delta3_h = Delta3_h / sphereVol / meanSubhaloNumDen\n",
    "\n",
    "plt.figure(dpi = 100)\n",
    "plt.hist(np.log10(Delta3_h), bins=100)\n",
    "plt.yscale('log')\n",
    "plt.ylabel('$\\#$ of central galaxies')\n",
    "plt.xlabel('log$_{10}$ $\\Delta_{3Mpc}$')"
   ]
  },
  {
   "cell_type": "markdown",
   "id": "085fc1db",
   "metadata": {},
   "source": [
    "#### SFR (Msol/yr)"
   ]
  },
  {
   "cell_type": "code",
   "execution_count": 13,
   "id": "e1ebf53b",
   "metadata": {},
   "outputs": [
    {
     "data": {
      "text/plain": [
       "Text(0.5, 0, 'log$_{10}$ SFR[M$_\\\\odot$/yr]')"
      ]
     },
     "execution_count": 13,
     "metadata": {},
     "output_type": "execute_result"
    },
    {
     "data": {
      "image/png": "[encoded data removed]",
      "text/plain": [
       "<Figure size 600x400 with 1 Axes>"
      ]
     },
     "metadata": {
      "needs_background": "light"
     },
     "output_type": "display_data"
    }
   ],
   "source": [
    "SFR_in_Msol_per_yr = star_formation_rate[subhalos['lgalaxyIndex'][selectSubhaloIndex]]\n",
    "\n",
    "plt.figure(dpi = 100)\n",
    "plt.hist(np.log10(1.e-10+SFR_in_Msol_per_yr), bins=100)\n",
    "plt.yscale('log')\n",
    "plt.ylabel('$\\#$ of central galaxies')\n",
    "plt.xlabel('log$_{10}$ SFR[M$_\\odot$/yr]')"
   ]
  },
  {
   "cell_type": "markdown",
   "id": "0d501c7d",
   "metadata": {},
   "source": [
    "#### Stellar mass (Msol)"
   ]
  },
  {
   "cell_type": "code",
   "execution_count": 14,
   "id": "a522affa",
   "metadata": {},
   "outputs": [
    {
     "data": {
      "text/plain": [
       "Text(0.5, 0, 'log$_{10}$ $M_\\\\star[h^{-1}M_\\\\odot]$')"
      ]
     },
     "execution_count": 14,
     "metadata": {},
     "output_type": "execute_result"
    },
    {
     "data": {
      "image/png": "[encoded data removed]",
      "text/plain": [
       "<Figure size 600x400 with 1 Axes>"
      ]
     },
     "metadata": {
      "needs_background": "light"
     },
     "output_type": "display_data"
    }
   ],
   "source": [
    "Mstar_in_Msol = stellar_mass[subhalos['lgalaxyIndex'][selectSubhaloIndex]] * 1e10\n",
    "\n",
    "plt.figure(dpi = 100)\n",
    "plt.hist(np.log10(Mstar_in_Msol), bins=100)\n",
    "plt.yscale('log')\n",
    "plt.ylabel('$\\#$ of central galaxies')\n",
    "plt.xlabel('log$_{10}$ $M_\\star[h^{-1}M_\\odot]$')"
   ]
  },
  {
   "cell_type": "markdown",
   "id": "5003ce98",
   "metadata": {},
   "source": [
    "#### sSFR (yr^-1)"
   ]
  },
  {
   "cell_type": "markdown",
   "id": "2bd844b5",
   "metadata": {},
   "source": [
    "Following Ayromlou et al. (2021) [https://ui.adsabs.harvard.edu/abs/2021MNRAS.502.1051A],  the simulated galaxies with log10(sSFR/yr−1) < −12 are assigned a value from a random Gaussian with mean and dispersion mu = log10 sSFR = −0.3 * log10(Mstar) − 8.6 and sigma = 0.5."
   ]
  },
  {
   "cell_type": "code",
   "execution_count": 15,
   "id": "f5c0b12e",
   "metadata": {},
   "outputs": [
    {
     "name": "stdout",
     "output_type": "stream",
     "text": [
      "Zero sSFR number: 18353\n",
      "Zero sSFR Fraction: 0.0879034\n"
     ]
    },
    {
     "data": {
      "text/plain": [
       "Text(0.5, 0, 'log$_{10}$ sSFR [$h$ yr$^{-1}$]')"
      ]
     },
     "execution_count": 15,
     "metadata": {},
     "output_type": "execute_result"
    },
    {
     "data": {
      "image/png": "[encoded data removed]",
      "text/plain": [
       "<Figure size 600x400 with 1 Axes>"
      ]
     },
     "metadata": {
      "needs_background": "light"
     },
     "output_type": "display_data"
    }
   ],
   "source": [
    "sSFR_in_per_yr = SFR_in_Msol_per_yr / Mstar_in_Msol\n",
    "zerosSFRNum = len(sSFR_in_per_yr[sSFR_in_per_yr < 1e-12])\n",
    "print('Zero sSFR number: %d' % (zerosSFRNum))\n",
    "print('Zero sSFR Fraction: %g' % (float(zerosSFRNum) / selectSubhaloNum))\n",
    "\n",
    "np.random.seed(42)\n",
    "gaussianLogsSFR = np.random.normal(-0.3*np.log10(Mstar_in_Msol[sSFR_in_per_yr < 1e-12])-8.6, 0.5, zerosSFRNum)\n",
    "sSFR_in_per_yr[sSFR_in_per_yr < 1e-12] = 10.**gaussianLogsSFR\n",
    "\n",
    "plt.figure(dpi = 100)\n",
    "plt.hist(np.log10(sSFR_in_per_yr), bins=100)\n",
    "plt.yscale('log')\n",
    "plt.ylabel('$\\#$ of central galaxies')\n",
    "plt.xlabel('log$_{10}$ sSFR [$h$ yr$^{-1}$]')"
   ]
  },
  {
   "cell_type": "markdown",
   "id": "f93d7b07",
   "metadata": {},
   "source": [
    "#### g-i color"
   ]
  },
  {
   "cell_type": "code",
   "execution_count": 16,
   "id": "9799b318",
   "metadata": {},
   "outputs": [
    {
     "data": {
      "text/plain": [
       "Text(0.5, 0, '$g-i$')"
      ]
     },
     "execution_count": 16,
     "metadata": {},
     "output_type": "execute_result"
    },
    {
     "data": {
      "image/png": "[encoded data removed]",
      "text/plain": [
       "<Figure size 600x400 with 1 Axes>"
      ]
     },
     "metadata": {
      "needs_background": "light"
     },
     "output_type": "display_data"
    }
   ],
   "source": [
    "g_i_color = mag[16][subhalos['lgalaxyIndex'][selectSubhaloIndex]] - mag[18][subhalos['lgalaxyIndex'][selectSubhaloIndex]]\n",
    "\n",
    "plt.figure(dpi = 100)\n",
    "plt.hist(g_i_color, bins=100)\n",
    "plt.yscale('log')\n",
    "plt.ylabel('$\\#$ of central galaxies')\n",
    "plt.xlabel('$g-i$')"
   ]
  },
  {
   "cell_type": "markdown",
   "id": "d0996ebb",
   "metadata": {},
   "source": [
    "#### Disk size"
   ]
  },
  {
   "cell_type": "code",
   "execution_count": 17,
   "id": "c92cca5f",
   "metadata": {},
   "outputs": [
    {
     "data": {
      "text/plain": [
       "Text(0.5, 0, 'log$_{10} R_\\\\mathrm{D} [h^{-1} \\\\mathrm{kpc}]$')"
      ]
     },
     "execution_count": 17,
     "metadata": {},
     "output_type": "execute_result"
    },
    {
     "data": {
      "image/png": "[encoded data removed]",
      "text/plain": [
       "<Figure size 600x400 with 1 Axes>"
      ]
     },
     "metadata": {
      "needs_background": "light"
     },
     "output_type": "display_data"
    }
   ],
   "source": [
    "diskSize = disk_size[subhalos['lgalaxyIndex'][selectSubhaloIndex]] / 3.\n",
    "\n",
    "plt.figure(dpi = 100)\n",
    "plt.hist(np.log10(diskSize), bins=100)\n",
    "plt.yscale('log')\n",
    "plt.ylabel('$\\#$ of central galaxies')\n",
    "plt.xlabel('log$_{10} R_\\mathrm{D} [h^{-1} \\mathrm{kpc}]$')"
   ]
  },
  {
   "cell_type": "markdown",
   "id": "2be70c1a",
   "metadata": {},
   "source": [
    "#### Bulge size"
   ]
  },
  {
   "cell_type": "code",
   "execution_count": 18,
   "id": "5faf03dd",
   "metadata": {},
   "outputs": [
    {
     "data": {
      "text/plain": [
       "Text(0.5, 0, 'log$_{10} (R_\\\\mathrm{B} [h^{-1} \\\\mathrm{kpc}])$')"
      ]
     },
     "execution_count": 18,
     "metadata": {},
     "output_type": "execute_result"
    },
    {
     "data": {
      "image/png": "[encoded data removed]",
      "text/plain": [
       "<Figure size 600x400 with 1 Axes>"
      ]
     },
     "metadata": {
      "needs_background": "light"
     },
     "output_type": "display_data"
    }
   ],
   "source": [
    "bulgeSize = bulge_size[subhalos['lgalaxyIndex'][selectSubhaloIndex]]\n",
    "\n",
    "plt.figure(dpi = 100)\n",
    "plt.hist(np.log10(1e-5+bulgeSize), bins=100)\n",
    "plt.yscale('log')\n",
    "plt.ylabel('$\\#$ of central galaxies')\n",
    "plt.xlabel('log$_{10} (R_\\mathrm{B} [h^{-1} \\mathrm{kpc}])$')"
   ]
  },
  {
   "cell_type": "markdown",
   "id": "c82df335",
   "metadata": {},
   "source": [
    "#### Projected stellar half-mass radius"
   ]
  },
  {
   "cell_type": "markdown",
   "id": "a1d9da1a",
   "metadata": {},
   "source": [
    "Assume the bulge component follows a Hernquist profile. See Hernquist (1990) [https://ui.adsabs.harvard.edu/abs/1990ApJ...356..359H] for details of the relation between the 3D half-mass radius and scale radius, and the expression for the cumulative surface brightness. "
   ]
  },
  {
   "cell_type": "code",
   "execution_count": 19,
   "id": "fd4963fa",
   "metadata": {},
   "outputs": [
    {
     "name": "stderr",
     "output_type": "stream",
     "text": [
      "/tmp/liaoshih/12288926/ipykernel_263342/2459350303.py:6: RuntimeWarning: invalid value encountered in sqrt\n",
      "  return 1. / (1. - s**2)**0.5 * np.arccosh(1./s)\n",
      "/tmp/liaoshih/12288926/ipykernel_263342/2459350303.py:6: RuntimeWarning: invalid value encountered in arccosh\n",
      "  return 1. / (1. - s**2)**0.5 * np.arccosh(1./s)\n",
      "/tmp/liaoshih/12288926/ipykernel_263342/2459350303.py:12: RuntimeWarning: divide by zero encountered in true_divide\n",
      "  s = r / a\n",
      "/tmp/liaoshih/12288926/ipykernel_263342/2459350303.py:18: RuntimeWarning: invalid value encountered in multiply\n",
      "  return Mb * s**2 * (func_X(s) - 1.) / (1. - s**2)\n",
      "/tmp/liaoshih/12288926/ipykernel_263342/2459350303.py:2: RuntimeWarning: overflow encountered in exp\n",
      "  return Md / Rd * (Rd - (r + Rd) * np.exp(- r/Rd))\n"
     ]
    }
   ],
   "source": [
    "def enclosed_mass_disk(r, Md, Rd):\n",
    "  return Md / Rd * (Rd - (r + Rd) * np.exp(- r/Rd))\n",
    "\n",
    "def func_X(s):\n",
    "  if s <= 1.:\n",
    "    return 1. / (1. - s**2)**0.5 * np.arccosh(1./s)\n",
    "  else:\n",
    "    return 1. / (s**2 - 1.)**0.5 * np.arccos(1./s)\n",
    "\n",
    "def enclosed_mass_hernquist_bulge(r, Mb, Rb): \n",
    "  a = Rb / (1. + 2**0.5)\n",
    "  s = r / a\n",
    "  if s == 1.:\n",
    "    return Mb / 3.\n",
    "  elif s == 0.:\n",
    "    return 0.\n",
    "  else:\n",
    "    return Mb * s**2 * (func_X(s) - 1.) / (1. - s**2)\n",
    "\n",
    "def enclosed_mass_total(r, Md, Rd, Mb, Rb):\n",
    "  return enclosed_mass_disk(r, Md, Rd) + enclosed_mass_hernquist_bulge(r, Mb, Rb)\n",
    "\n",
    "def compute_rhalf(r, Md, Rd, Mb, Rb):\n",
    "  return enclosed_mass_total(r, Md, Rd, Mb, Rb) - (Md + Mb) / 2.\n",
    "\n",
    "bulge_size_tmp = bulge_size[subhalos['lgalaxyIndex'][selectSubhaloIndex]]\n",
    "disk_size_tmp = disk_size[subhalos['lgalaxyIndex'][selectSubhaloIndex]]/3.\n",
    "bulge_mass_tmp = bulge_mass[subhalos['lgalaxyIndex'][selectSubhaloIndex]]\n",
    "disk_mass_tmp = disk_mass[subhalos['lgalaxyIndex'][selectSubhaloIndex]]\n",
    "\n",
    "proj_rhalf_star = np.full(len(bulge_size_tmp), -1.)\n",
    "proj_rhalf_star_flag = np.full(len(bulge_size_tmp), 1)\n",
    "\n",
    "for i in range(len(bulge_size_tmp)):\n",
    "    res = fsolve(compute_rhalf, bulge_size_tmp[i]+0.1, args=(disk_mass_tmp[i], disk_size_tmp[i], bulge_mass_tmp[i], bulge_size_tmp[i]), full_output=1)\n",
    "    proj_rhalf_star[i] = res[0][0]\n",
    "    proj_rhalf_star_flag[i] = res[2]"
   ]
  },
  {
   "cell_type": "code",
   "execution_count": 20,
   "id": "3811ad32",
   "metadata": {},
   "outputs": [
    {
     "data": {
      "text/plain": [
       "Text(0.5, 0, 'log$_{10} R_\\\\mathrm{1/2} [h^{-1} \\\\mathrm{kpc}]$')"
      ]
     },
     "execution_count": 20,
     "metadata": {},
     "output_type": "execute_result"
    },
    {
     "data": {
      "image/png": "[encoded data removed]",
      "text/plain": [
       "<Figure size 600x400 with 1 Axes>"
      ]
     },
     "metadata": {
      "needs_background": "light"
     },
     "output_type": "display_data"
    }
   ],
   "source": [
    "plt.figure(dpi = 100)\n",
    "plt.hist(np.log10(proj_rhalf_star[proj_rhalf_star_flag == 1]), bins=100)\n",
    "plt.yscale('log')\n",
    "plt.ylabel('$\\#$ of central galaxies')\n",
    "plt.xlabel('log$_{10} R_\\mathrm{1/2} [h^{-1} \\mathrm{kpc}]$')"
   ]
  },
  {
   "cell_type": "markdown",
   "id": "72d15d32",
   "metadata": {},
   "source": [
    "#### Construct data frame with pandas and output"
   ]
  },
  {
   "cell_type": "code",
   "execution_count": 21,
   "id": "b456bbfa",
   "metadata": {},
   "outputs": [
    {
     "name": "stdout",
     "output_type": "stream",
     "text": [
      "Total number of selected halos/galaxies: 197514\n"
     ]
    }
   ],
   "source": [
    "d = {}\n",
    "outputMark = (cvir > 0.) & (cvir < 30.) & (proj_rhalf_star_flag == 1)\n",
    "d['M_h'] = np.log10(Mvir_in_Msol[outputMark])\n",
    "d['C_h'] = np.log10(cvir[outputMark])\n",
    "d['S_h'] = spinParam[outputMark]\n",
    "d['z_h'] = z_form[outputMark]\n",
    "d['Delta3_h'] = Delta3_h[outputMark]\n",
    "d['stellar_mass'] = np.log10(Mstar_in_Msol[outputMark])\n",
    "d['sSFR'] = np.log10(sSFR_in_per_yr[outputMark])\n",
    "d['radius'] = np.log10(proj_rhalf_star[outputMark])\n",
    "d['color'] = g_i_color[outputMark]\n",
    "\n",
    "print('Total number of selected halos/galaxies:', len(Mvir_in_Msol[outputMark]))\n",
    "\n",
    "df = pd.DataFrame(data=d)\n",
    "df.to_csv('./TNG300-1-Dark_L-GALAXIES_output.csv', index=False)"
   ]
  },
  {
   "cell_type": "code",
   "execution_count": null,
   "id": "e223cecc",
   "metadata": {},
   "outputs": [],
   "source": []
  }
 ],
 "metadata": {
  "kernelspec": {
   "display_name": "Python 3 (ipykernel)",
   "language": "python",
   "name": "python3"
  },
  "language_info": {
   "codemirror_mode": {
    "name": "ipython",
    "version": 3
   },
   "file_extension": ".py",
   "mimetype": "text/x-python",
   "name": "python",
   "nbconvert_exporter": "python",
   "pygments_lexer": "ipython3",
   "version": "3.9.12"
  }
 },
 "nbformat": 4,
 "nbformat_minor": 5
}
